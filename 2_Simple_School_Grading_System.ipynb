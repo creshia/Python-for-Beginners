{
 "cells": [
  {
   "cell_type": "markdown",
   "metadata": {},
   "source": [
    "# Basic School Grading System for Educators\n",
    "This is a practise code for: \n",
    "\n",
    "- Conditional statements (if-elif-else)\n",
    "\n",
    "- Assignment operators (=, >=)\n",
    "\n",
    "- F\"Strings{}\n",
    "\n",
    "- User Inputs input()"
   ]
  },
  {
   "cell_type": "code",
   "execution_count": 8,
   "metadata": {},
   "outputs": [
    {
     "name": "stdout",
     "output_type": "stream",
     "text": [
      "Kelvin Jones scored 78% (Grade C) for the course.\n"
     ]
    }
   ],
   "source": [
    "# Use conditional statements if-elif-else to create a school grading system\n",
    "\n",
    "student_name = input(\"Please enter student name:\").strip().title() # This code allows the teacher to enter student details, remove extra whitespaces, and capitalizes first letters of student name and last name\n",
    "student_mark = int(input(\"Please enter the student's mark: \")) # This code turns all input into intergers\n",
    "\n",
    "if student_mark >= 90:\n",
    "    print(f\"{student_name} scored {student_mark}% (Grade A) for the course.\")\n",
    "elif student_mark >= 80:\n",
    "    print(f\"{student_name} scored {student_mark}% (Grade B) for the course.\")\n",
    "elif student_mark >= 70:\n",
    "    print(f\"{student_name} scored {student_mark}% (Grade C) for the course.\")\n",
    "else:\n",
    "    print(f\"{student_name} has achieved {student_mark}% and therefore has failed the exam.\") #The pass mark is 70%"
   ]
  },
  {
   "cell_type": "markdown",
   "metadata": {},
   "source": []
  },
  {
   "cell_type": "markdown",
   "metadata": {},
   "source": [
    "Advanced Code snippet:\n",
    "- Q: How can I write the code to allow an educator to continue adding student names and grades without repeating the code and then print a list of all students and their grades? \n",
    "\n",
    "- A: Please see the '3. Advanced School Grading System using Loops' file."
   ]
  },
  {
   "cell_type": "markdown",
   "metadata": {},
   "source": []
  }
 ],
 "metadata": {
  "kernelspec": {
   "display_name": "Python 3",
   "language": "python",
   "name": "python3"
  },
  "language_info": {
   "codemirror_mode": {
    "name": "ipython",
    "version": 3
   },
   "file_extension": ".py",
   "mimetype": "text/x-python",
   "name": "python",
   "nbconvert_exporter": "python",
   "pygments_lexer": "ipython3",
   "version": "3.13.0"
  }
 },
 "nbformat": 4,
 "nbformat_minor": 2
}
