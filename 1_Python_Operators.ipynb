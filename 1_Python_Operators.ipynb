{
 "cells": [
  {
   "cell_type": "markdown",
   "metadata": {},
   "source": [
    "## Python Operators\n",
    "This code showcases simple operators:\n",
    "1. Assignment Operator [=, +=, -=, /=, *=, **+, %+]\n",
    "2. Arithmatic Operator [+, -, /, *, **, %]\n",
    "3. Comparison Operator [==, <, >, <=, >=]\n",
    "\n",
    "Created by Creshia\n",
    "\n",
    "[You can reach me via Email](ldreyer777@gmail.com)"
   ]
  },
  {
   "cell_type": "code",
   "execution_count": 25,
   "metadata": {},
   "outputs": [],
   "source": [
    "# Use an assignment operator (=) to create variables and assign values.\n",
    "# Variables are library book categories\n",
    "# Values are the number of books for each category\n",
    "\n",
    "fiction = 120\n",
    "non_fiction = 80\n",
    "science = 60\n",
    "history = 40"
   ]
  },
  {
   "cell_type": "code",
   "execution_count": 26,
   "metadata": {},
   "outputs": [
    {
     "name": "stdout",
     "output_type": "stream",
     "text": [
      "There are currently 300 books in the library\n"
     ]
    }
   ],
   "source": [
    "# Use an arithmetic operator (+) to calculate the total number of books in the library\n",
    "total_books = fiction + non_fiction + science + history\n",
    "print(f\"There are currently {total_books} books in the library\") # Using an F-String"
   ]
  },
  {
   "cell_type": "code",
   "execution_count": 11,
   "metadata": {},
   "outputs": [
    {
     "name": "stdout",
     "output_type": "stream",
     "text": [
      "New total of science books =  100\n",
      "This makes the new sum of total_books =  340\n"
     ]
    }
   ],
   "source": [
    "# Use the add and assign operator to add 10 more science books to the library\n",
    "science += 10 # add 10 more science books\n",
    "print(\"New total of science books = \", science)\n",
    "total_books = fiction + non_fiction + science + history\n",
    "print(\"This makes the new sum of total_books = \", total_books)"
   ]
  },
  {
   "cell_type": "code",
   "execution_count": 27,
   "metadata": {},
   "outputs": [
    {
     "name": "stdout",
     "output_type": "stream",
     "text": [
      "We have an even number of total books.\n"
     ]
    }
   ],
   "source": [
    "# Is the total number of books an even number\n",
    "if total_books %2 == 0:\n",
    "    print(\"We have an even number of total books.\")\n",
    "else: \n",
    "    print(\"We have an odd number of total books.\")"
   ]
  },
  {
   "cell_type": "code",
   "execution_count": 28,
   "metadata": {},
   "outputs": [
    {
     "data": {
      "text/plain": [
       "True"
      ]
     },
     "execution_count": 28,
     "metadata": {},
     "output_type": "execute_result"
    }
   ],
   "source": [
    "# Use comparison operators to check if the number of science books is equal or more than 50\n",
    "science >= 50"
   ]
  },
  {
   "cell_type": "code",
   "execution_count": 18,
   "metadata": {},
   "outputs": [
    {
     "data": {
      "text/plain": [
       "False"
      ]
     },
     "execution_count": 18,
     "metadata": {},
     "output_type": "execute_result"
    }
   ],
   "source": [
    "# More Comparison Operators\n",
    "# Do we have less than 20 fiction books in the library\n",
    "\n",
    "fiction < 20"
   ]
  },
  {
   "cell_type": "code",
   "execution_count": 29,
   "metadata": {},
   "outputs": [
    {
     "name": "stdout",
     "output_type": "stream",
     "text": [
      "Yes, we have 40 history books in the library.\n"
     ]
    }
   ],
   "source": [
    "# Do we have 40 history books in the library?\n",
    "\n",
    "if history == 40: # This is a simple if-else conditional statement \n",
    "    print(f\"Yes, we have {history} history books in the library.\") # if the condition is True, print this\n",
    "else:\n",
    "    print(\"No, we do not have 40 history books in the library\") # if it is False, print this"
   ]
  },
  {
   "cell_type": "markdown",
   "metadata": {},
   "source": [
    "You can use this code to perform different calculations using assignment, arithmatic, and assignment operators.\n",
    "- We will work on the last group of operators called logical operators in another file."
   ]
  }
 ],
 "metadata": {
  "kernelspec": {
   "display_name": "Python 3",
   "language": "python",
   "name": "python3"
  },
  "language_info": {
   "codemirror_mode": {
    "name": "ipython",
    "version": 3
   },
   "file_extension": ".py",
   "mimetype": "text/x-python",
   "name": "python",
   "nbconvert_exporter": "python",
   "pygments_lexer": "ipython3",
   "version": "3.13.0"
  }
 },
 "nbformat": 4,
 "nbformat_minor": 2
}
