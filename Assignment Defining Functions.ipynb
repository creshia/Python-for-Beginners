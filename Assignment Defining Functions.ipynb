{
 "cells": [
  {
   "cell_type": "markdown",
   "metadata": {},
   "source": [
    "# Defining Functions in Real-World Scenarios\n",
    "### Objective:\n",
    "To design and use functions with different types of parameters. \n",
    "To create real-world functions.\n",
    "\n",
    "By: Lucretia Dreyer"
   ]
  },
  {
   "cell_type": "markdown",
   "metadata": {},
   "source": [
    "### 1. A Library Function without parameters"
   ]
  },
  {
   "cell_type": "code",
   "execution_count": null,
   "metadata": {},
   "outputs": [
    {
     "name": "stdout",
     "output_type": "stream",
     "text": [
      "Our library is open from 9:00 AM to 6:00 PM.\n"
     ]
    }
   ],
   "source": [
    "def library_hours():\n",
    "    \"\"\" \n",
    "    Prints the library's opening abd closing hours.\n",
    "    \"\"\"\n",
    "    open_time = int(9.0) # casts time into an integer.\n",
    "    closing_time = int(6)\n",
    "    print(f\"Our library is open from {open_time}:00 AM to {closing_time}:00 PM.\")\n",
    "    \n",
    "# Call the function\n",
    "library_hours()"
   ]
  },
  {
   "cell_type": "markdown",
   "metadata": {},
   "source": [
    "### 2. A Movie Ticket Booking Function with One Parameter"
   ]
  },
  {
   "cell_type": "code",
   "execution_count": 102,
   "metadata": {},
   "outputs": [
    {
     "name": "stdout",
     "output_type": "stream",
     "text": [
      "The ticket price is $5\n",
      "The ticket price is $10\n",
      "The ticket price is $7\n"
     ]
    }
   ],
   "source": [
    "def ticket_price(age):\n",
    "    \"\"\" \n",
    "    Prints ticket price based on custormer age.\n",
    "    \"\"\"\n",
    "    if age < 12:\n",
    "        print(\"The ticket price is $5\") # prints price if customer is younger than 12 years old.\n",
    "    elif age <= 60 >= 12:\n",
    "        print(\"The ticket price is $10\") #prints price if customer is between 12 and 60 years old.\n",
    "    else:\n",
    "        print(\"The ticket price is $7\") # prints price if customer is over 60 years old.\n",
    "        \n",
    "        \n",
    "# Call the function\n",
    "ticket_price(10)\n",
    "ticket_price(60)\n",
    "ticket_price(65)"
   ]
  },
  {
   "cell_type": "markdown",
   "metadata": {},
   "source": []
  },
  {
   "cell_type": "markdown",
   "metadata": {},
   "source": [
    "### 3. Basic Billing System for an Online Store"
   ]
  },
  {
   "cell_type": "code",
   "execution_count": 90,
   "metadata": {},
   "outputs": [
    {
     "name": "stdout",
     "output_type": "stream",
     "text": [
      "Total bill amount = $45.0.\n"
     ]
    }
   ],
   "source": [
    "def calculate_bill(item_price, quantity_purchased):\n",
    "    \"\"\"  \n",
    "    Calculates the total cost of purchased itmes.\n",
    "    \"\"\"\n",
    "    total_cost = float(item_price * quantity_purchased) # Applies arithmetic operation to multiply retail selling price with item quantity.\n",
    "    print(f\"Total bill amount = ${total_cost}.\")\n",
    "    \n",
    "# Call the function\n",
    "calculate_bill(15,3)\n"
   ]
  },
  {
   "cell_type": "markdown",
   "metadata": {},
   "source": [
    "### 4. An Email Notification System Function"
   ]
  },
  {
   "cell_type": "code",
   "execution_count": 28,
   "metadata": {},
   "outputs": [
    {
     "name": "stdout",
     "output_type": "stream",
     "text": [
      "Notification: Your order has been shipped!\n",
      "Notification: No New notifications\n"
     ]
    }
   ],
   "source": [
    "def send_notification(message=\"No New notifications\"): # Argument is optional. You can choose to give it a new value or none.\n",
    "    \"\"\"  \n",
    "    Sends email notifications\n",
    "    \"\"\"  \n",
    "    print(f\"Notification: {message}\")\n",
    "    \n",
    "    \n",
    "# Call the function\n",
    "send_notification(\"Your order has been shipped!\")\n",
    "send_notification()"
   ]
  },
  {
   "cell_type": "markdown",
   "metadata": {},
   "source": [
    "### 5. Bonus Challenge\n",
    "1. Modify calculate_bill() to apply a discount if the total bill is above $100.\n",
    "2. Modify ticket_price() to ask the user for their age instead of passing it as an argument."
   ]
  },
  {
   "cell_type": "code",
   "execution_count": 30,
   "metadata": {},
   "outputs": [
    {
     "name": "stdout",
     "output_type": "stream",
     "text": [
      "15% Discount Applied. Total bill amount is $ 408.0 .\n"
     ]
    }
   ],
   "source": [
    "# Basic Billing System for an Online Store. Add a 15% discount to total_bill\n",
    "def calculate_bill(item_price, quantity_purchased):\n",
    "    \"\"\"  \n",
    "    Calculates the total cost of purchased itmes.\n",
    "    \"\"\" \n",
    "    total_cost = float(item_price * quantity_purchased) # Applies arithmetic operation to multiply retail selling price with item quantity. \n",
    "    if total_cost > 100:\n",
    "        print(\"15% Discount Applied. Total bill amount is $\", (total_cost * 0.85),\".\") # Applies a 15% discount\n",
    "    else:\n",
    "        print(f\"Total bill amount = ${total_cost}.\")\n",
    "\n",
    "calculate_bill(240,2) # Calls the function"
   ]
  },
  {
   "cell_type": "code",
   "execution_count": 110,
   "metadata": {},
   "outputs": [
    {
     "name": "stdout",
     "output_type": "stream",
     "text": [
      "The ticket price is $10\n"
     ]
    }
   ],
   "source": [
    "# Movie Ticket Order System. Ask user for their age.\n",
    "def ticket_price(age):\n",
    "    \"\"\" \n",
    "    Prints ticket price based on custormer age.\n",
    "    \"\"\"\n",
    "    age = int(input(\"Please enter your age here: \")) # Requests customer to input their age.\n",
    "    if age < 12:\n",
    "        print(\"The ticket price is $5\") # prints price if customer is younger than 12 years old.\n",
    "    elif age <= 60 >= 12:\n",
    "        print(\"The ticket price is $10\") #prints price if customer is between 12 and 60 years old.\n",
    "    else:\n",
    "        print(\"The ticket price is $7\") # prints price if customer is over 60 years old.\n",
    "        \n",
    "        \n",
    "# Call the Function\n",
    "ticket_price(0)"
   ]
  }
 ],
 "metadata": {
  "kernelspec": {
   "display_name": "Python 3",
   "language": "python",
   "name": "python3"
  },
  "language_info": {
   "codemirror_mode": {
    "name": "ipython",
    "version": 3
   },
   "file_extension": ".py",
   "mimetype": "text/x-python",
   "name": "python",
   "nbconvert_exporter": "python",
   "pygments_lexer": "ipython3",
   "version": "3.12.7"
  }
 },
 "nbformat": 4,
 "nbformat_minor": 2
}
