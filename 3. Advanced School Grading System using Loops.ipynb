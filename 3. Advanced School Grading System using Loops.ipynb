{
 "cells": [
  {
   "cell_type": "markdown",
   "metadata": {},
   "source": [
    "# Advanced School Grading System for Educators\n",
    "- Uses a While Loop and if-elif-else conditional statements to input student names and grades. "
   ]
  },
  {
   "cell_type": "code",
   "execution_count": 2,
   "metadata": {},
   "outputs": [
    {
     "name": "stdout",
     "output_type": "stream",
     "text": [
      "\n",
      "Student Grades:\n",
      "Sally Green scored 76% (Grade C) for the course.\n",
      "Bridget Peters scored 70% (Grade C) for the course.\n",
      "John Reed scored 45% (Grade Fail) for the course.\n",
      "Mark Dale scored 90% (Grade A) for the course.\n",
      "Kelvin Booth scored 85% (Grade B) for the course.\n"
     ]
    }
   ],
   "source": [
    "# Initialize an empty list to store student data\n",
    "my_student_list = []\n",
    "\n",
    "# Use a loop to allow repeated data entry\n",
    "while True:\n",
    "    # Input student name and grade\n",
    "    student_name = input(\"Please enter student name: \").strip().title()\n",
    "    student_mark = int(input(\"Please enter the student's mark: \"))\n",
    "    \n",
    "    # Determine the grade based on the mark using a conditional statement\n",
    "    if student_mark >= 90:\n",
    "        grade = \"A\"\n",
    "    elif student_mark >= 80:\n",
    "        grade = \"B\"\n",
    "    elif student_mark >= 70:\n",
    "        grade = \"C\"\n",
    "    else:\n",
    "        grade = \"Fail\"  # A score of less than 70 is a failing mark\n",
    "        \n",
    "    # Create and store the student data in the list\n",
    "    my_student_list.append((student_name, student_mark, grade))\n",
    "    \n",
    "    # Ask if the teacher wants to add another student\n",
    "    add_another_student = input(\"Do you want to enter another student? (yes/no): \").strip().lower()\n",
    "    if add_another_student != 'yes':\n",
    "        break # Exits the loop is the teachers selects 'no' \n",
    "\n",
    "# Print the list of students and their grades\n",
    "print(\"\\nStudent Grades:\")\n",
    "for student in my_student_list:\n",
    "    name, mark, grade = student\n",
    "    print(f\"{name} scored {mark}% (Grade {grade}) for the course.\")"
   ]
  },
  {
   "cell_type": "markdown",
   "metadata": {},
   "source": [
    "## Create a table with student details"
   ]
  },
  {
   "cell_type": "code",
   "execution_count": 3,
   "metadata": {},
   "outputs": [
    {
     "name": "stdout",
     "output_type": "stream",
     "text": [
      "Requirement already satisfied: tabulate in c:\\users\\lucretia\\appdata\\local\\programs\\python\\python313\\lib\\site-packages (0.9.0)Note: you may need to restart the kernel to use updated packages.\n"
     ]
    },
    {
     "name": "stderr",
     "output_type": "stream",
     "text": [
      "\n",
      "[notice] A new release of pip is available: 24.2 -> 24.3.1\n",
      "[notice] To update, run: python.exe -m pip install --upgrade pip\n"
     ]
    },
    {
     "name": "stdout",
     "output_type": "stream",
     "text": [
      "\n"
     ]
    }
   ],
   "source": [
    "# Install a library that creates tables\n",
    "%pip install tabulate"
   ]
  },
  {
   "cell_type": "code",
   "execution_count": 4,
   "metadata": {},
   "outputs": [],
   "source": [
    "# Import the library\n",
    "from tabulate import tabulate"
   ]
  },
  {
   "cell_type": "code",
   "execution_count": 13,
   "metadata": {},
   "outputs": [
    {
     "name": "stdout",
     "output_type": "stream",
     "text": [
      "\n",
      "Student Grades:\n",
      "+----------------+------------+---------+\n",
      "| Student Name   |   Mark (%) | Grade   |\n",
      "+================+============+=========+\n",
      "| Sally Green    |         76 | C       |\n",
      "+----------------+------------+---------+\n",
      "| Bridget Peters |         70 | C       |\n",
      "+----------------+------------+---------+\n",
      "| John Reed      |         45 | Fail    |\n",
      "+----------------+------------+---------+\n",
      "| Mark Dale      |         90 | A       |\n",
      "+----------------+------------+---------+\n",
      "| Kelvin Booth   |         85 | B       |\n",
      "+----------------+------------+---------+\n"
     ]
    }
   ],
   "source": [
    "# Print the table\n",
    "print(\"\\nStudent Grades:\")\n",
    "headers = [\"Student Name\", \"Mark (%)\", \"Grade\"]\n",
    "print(tabulate(my_student_list, headers=headers, tablefmt=('grid')))\n"
   ]
  },
  {
   "cell_type": "markdown",
   "metadata": {},
   "source": [
    "### Help Required:\n",
    "I would like to make this code accessible for teachers with visual imparments."
   ]
  }
 ],
 "metadata": {
  "kernelspec": {
   "display_name": "Python 3",
   "language": "python",
   "name": "python3"
  },
  "language_info": {
   "codemirror_mode": {
    "name": "ipython",
    "version": 3
   },
   "file_extension": ".py",
   "mimetype": "text/x-python",
   "name": "python",
   "nbconvert_exporter": "python",
   "pygments_lexer": "ipython3",
   "version": "3.13.0"
  }
 },
 "nbformat": 4,
 "nbformat_minor": 2
}
