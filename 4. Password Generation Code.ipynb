{
 "cells": [
  {
   "cell_type": "markdown",
   "metadata": {},
   "source": [
    "# Password Generation Code\n",
    "### This file contains multiple codes for generating random passwords.\n",
    "1. UPPERCASE password\n",
    "2. Mixed-case password\n",
    "3. Alphanumeric password"
   ]
  },
  {
   "cell_type": "code",
   "execution_count": null,
   "metadata": {},
   "outputs": [],
   "source": [
    "# Import randint from the random library\n",
    "from random import randint #It provides randon integer numbers"
   ]
  },
  {
   "cell_type": "code",
   "execution_count": null,
   "metadata": {},
   "outputs": [
    {
     "name": "stdout",
     "output_type": "stream",
     "text": [
      "GMDMZTUAIQ\n"
     ]
    }
   ],
   "source": [
    "# Creates password in UPPERCASE English alphabet letters\n",
    "\n",
    "password = \"\" # An empty string\n",
    "\n",
    "for i in range(10): # The for loop iterates i for 10 loops/ 10 times.\n",
    "    i = chr(randint(65, 90)) # characters between 65 and 90 are UPPERCASE letters\n",
    "    password = str(password) + i\n",
    "print(password)"
   ]
  },
  {
   "cell_type": "code",
   "execution_count": null,
   "metadata": {},
   "outputs": [
    {
     "name": "stdout",
     "output_type": "stream",
     "text": [
      "RaLgLvMpBp\n"
     ]
    }
   ],
   "source": [
    "# Create an mixed-case password\n",
    "\n",
    "password = \"\" \n",
    "for i in range(5):\n",
    "    i = chr(randint(65, 90))\n",
    "    for j in range(5): # Creates a nested for loop for lowercase letters.\n",
    "        j = chr(randint(65, 90)).lower() # We can also reference lowercase letters by using randing(97, 122)\n",
    "    password = str(password) + i + j\n",
    "print(password)"
   ]
  },
  {
   "cell_type": "code",
   "execution_count": null,
   "metadata": {},
   "outputs": [
    {
     "name": "stdout",
     "output_type": "stream",
     "text": [
      "$d(m:y#tRhFa\n"
     ]
    }
   ],
   "source": [
    "# Create an alphanumeric password\n",
    "\n",
    "password = \"\"\n",
    "\n",
    "for i in range(6):\n",
    "    i = chr(randint(33, 90)) # 33 to 90 contain symbols and UPPERCASE letters\n",
    "    j = chr(randint(97, 122)) # 97 to 122 contain lowercase letters\n",
    "   \n",
    "    password = str(password) + i + j\n",
    "print(password)"
   ]
  },
  {
   "cell_type": "markdown",
   "metadata": {},
   "source": [
    "*Explanation*\n",
    "According to the [Python Character Table Reference] (https://python-tcod.readthedocs.io/en/latest/tcod/charmap-reference.html):\n",
    "- Positions 33 to 47 and 58 to 64 contain symbols\n",
    "\n",
    "- Positions 48 to 57 contain digits/numbers\n",
    "\n",
    "- Positions 65 to 90 contain 26 uppercase letters from the English/Latin alphabet\n",
    "\n",
    "- Possitions 91 to 122 contain 26 lowercase letters from the English/Latin alphabet"
   ]
  },
  {
   "cell_type": "markdown",
   "metadata": {},
   "source": []
  }
 ],
 "metadata": {
  "kernelspec": {
   "display_name": "Python 3",
   "language": "python",
   "name": "python3"
  },
  "language_info": {
   "codemirror_mode": {
    "name": "ipython",
    "version": 3
   },
   "file_extension": ".py",
   "mimetype": "text/x-python",
   "name": "python",
   "nbconvert_exporter": "python",
   "pygments_lexer": "ipython3",
   "version": "3.13.0"
  }
 },
 "nbformat": 4,
 "nbformat_minor": 2
}
